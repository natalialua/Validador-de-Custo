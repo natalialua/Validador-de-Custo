{
 "cells": [
  {
   "cell_type": "markdown",
   "metadata": {},
   "source": [
    "# Atualizar Tabela ACCESS"
   ]
  },
  {
   "cell_type": "code",
   "execution_count": null,
   "metadata": {},
   "outputs": [],
   "source": [
    "import pandas as pd\n",
    "import sqlite3\n",
    "from email import message_from_file\n",
    "from io import StringIO\n",
    "import pyodbc  \n",
    "import os\n",
    "\n",
    "#Caminho Access\n",
    "\n",
    "caminho_arquivo_access = r\"G\"\n",
    "\n",
    "# Conectar ao banco de dados Access\n",
    "conn_access = pyodbc.connect(r'DRIVER={Microsoft Access Driver (*.mdb, *.accdb)};DBQ=' + caminho_arquivo_access)\n",
    "cursor_access = conn_access.cursor()\n",
    "\n",
    "# Função para carregar as tabelas do Access\n",
    "def carregar_tabela_access(nome_tabela):\n",
    "    query = f\"SELECT * FROM {nome_tabela}\"\n",
    "    df = pd.read_sql(query, conn_access)\n",
    "    return df\n",
    "\n",
    "# Carregar as tabelas do Access\n",
    "df_tabelas_fracionado = carregar_tabela_access('TABELAS_FRACIONADO')\n",
    "df_tabelas_lotacao = carregar_tabela_access('TABELAS_LOTACAO')\n",
    "\n",
    "# Fechar a conexão com o Access\n",
    "conn_access.close()\n",
    "\n",
    "\n",
    "# Função para remover colunas indesejadas\n",
    "def limpar_colunas(df):\n",
    "    return df.loc[:, ~df.columns.str.contains('^Unnamed')]\n",
    "\n",
    "\n",
    "# Conectar ao banco SQLite\n",
    "conn = sqlite3.connect('dados_banco.db')\n",
    "cursor = conn.cursor()\n",
    "\n",
    "def salvar_tabela(df, nome_tabela):\n",
    "    # Salva o DataFrame como uma tabela no banco de dados SQLite\n",
    "    df.to_sql(nome_tabela, conn, if_exists='replace', index=False)\n",
    "    print(f'Tabela \"{nome_tabela}\" salva no banco de dados.')   \n",
    "\n",
    "# Salvar as tabelas do Access\n",
    "salvar_tabela(df_tabelas_fracionado, 'TABELAS_FRACIONADO')\n",
    "salvar_tabela(df_tabelas_lotacao, 'TABELAS_LOTACAO')\n",
    "\n",
    "\n",
    "# Fechar a conexão com o banco de dados após salvar\n",
    "conn.close()     "
   ]
  },
  {
   "cell_type": "markdown",
   "metadata": {},
   "source": [
    "# Atualizar dados (Book, Bases apoio)"
   ]
  },
  {
   "cell_type": "code",
   "execution_count": null,
   "metadata": {},
   "outputs": [
    {
     "name": "stdout",
     "output_type": "stream",
     "text": [
      "Tabela \"Info_Gerais\" salva no banco de dados.\n",
      "Tabela \"Transp\" salva no banco de dados.\n",
      "Tabela \"Base_Clientes\" salva no banco de dados.\n",
      "Tabela \"Base_Produtos\" salva no banco de dados.\n",
      "Tabela \"Book\" salva no banco de dados.\n"
     ]
    }
   ],
   "source": [
    "import pandas as pd\n",
    "import sqlite3\n",
    "from email import message_from_file\n",
    "from io import StringIO\n",
    "import pyodbc  \n",
    "import os\n",
    "\n",
    "\n",
    "# Caminhos\n",
    "\n",
    "caminho_arquivo_excel = r\"G:\"\n",
    "caminho_arquivo_excel2 = r\"G:\"\n",
    "\n",
    "\n",
    "# 1. Carregar as abas do arquivo Excel (utilizando o engine='pyxlsb')\n",
    "abas = ['Info_Gerais', 'Transp', 'Base_Clientes', 'Base_Produtos']\n",
    "\n",
    "# Ler os DataFrames para cada aba usando o engine 'pyxlsb'\n",
    "df_info_gerais = pd.read_excel(caminho_arquivo_excel, sheet_name='Info_Gerais', engine='pyxlsb')\n",
    "df_transp = pd.read_excel(caminho_arquivo_excel, sheet_name='Transp', engine='pyxlsb')\n",
    "df_base_clientes = pd.read_excel(caminho_arquivo_excel, sheet_name='Base_Clientes', engine='pyxlsb')\n",
    "df_base_produtos = pd.read_excel(caminho_arquivo_excel, sheet_name='Base_Produtos', engine='pyxlsb')\n",
    "\n",
    "# 2. Carregar a aba do segundo arquivo Excel\n",
    "df_book = pd.read_excel(caminho_arquivo_excel2, sheet_name='Book', engine='pyxlsb')\n",
    "\n",
    "\n",
    "# Função para remover colunas indesejadas\n",
    "def limpar_colunas(df):\n",
    "    return df.loc[:, ~df.columns.str.contains('^Unnamed')]\n",
    "\n",
    "\n",
    "# Conectar ao banco SQLite\n",
    "conn = sqlite3.connect('dados_banco.db')\n",
    "cursor = conn.cursor()\n",
    "\n",
    "def salvar_tabela(df, nome_tabela):\n",
    "    # Salva o DataFrame como uma tabela no banco de dados SQLite\n",
    "    df.to_sql(nome_tabela, conn, if_exists='replace', index=False)\n",
    "    print(f'Tabela \"{nome_tabela}\" salva no banco de dados.')\n",
    "\n",
    "# Salvar as tabelas enquanto a conexão estiver aberta\n",
    "salvar_tabela(df_info_gerais, 'Info_Gerais')\n",
    "salvar_tabela(df_transp, 'Transp')\n",
    "salvar_tabela(df_base_clientes, 'Base_Clientes')\n",
    "salvar_tabela(df_base_produtos, 'Base_Produtos')\n",
    "salvar_tabela(df_book, 'Book')\n",
    "# salvar_tabela(df_txt, 'Relatorio_Txt')\n",
    "\n",
    "# Fechar a conexão com o banco de dados após salvar\n",
    "conn.close()"
   ]
  },
  {
   "cell_type": "markdown",
   "metadata": {},
   "source": [
    "# BI Paletização"
   ]
  },
  {
   "cell_type": "code",
   "execution_count": null,
   "metadata": {},
   "outputs": [
    {
     "name": "stdout",
     "output_type": "stream",
     "text": [
      "✅ Dados dos arquivos .txt inseridos na tabela \"BI_Paletizacao\".\n"
     ]
    }
   ],
   "source": [
    "import pandas as pd\n",
    "import sqlite3\n",
    "import os\n",
    "\n",
    "caminho_pasta = r\"G:\"\n",
    "caminho_banco = r\"G:\"\n",
    "def carregar_txts_pasta(caminho_pasta, separador='|', encoding='utf-8'):\n",
    "    arquivos_txt = [f for f in os.listdir(caminho_pasta) if f.endswith('.txt')]\n",
    "    lista_dfs = []\n",
    "    for arquivo in arquivos_txt:\n",
    "        caminho_arquivo = os.path.join(caminho_pasta, arquivo)\n",
    "        try:\n",
    "            df = pd.read_csv(caminho_arquivo, sep=separador, encoding=encoding)\n",
    "            lista_dfs.append(df)\n",
    "        except Exception as e:\n",
    "            print(f\"Erro ao ler {arquivo}: {e}\")\n",
    "    if lista_dfs:\n",
    "        return pd.concat(lista_dfs, ignore_index=True)\n",
    "    else:\n",
    "        print(\"Nenhum arquivo válido encontrado na pasta.\")\n",
    "        return pd.DataFrame()\n",
    "\n",
    "df_txt_consolidado = carregar_txts_pasta(caminho_pasta)\n",
    "\n",
    "if not df_txt_consolidado.empty:\n",
    "    try:\n",
    "        conn = sqlite3.connect(caminho_banco)\n",
    "        df_txt_consolidado.to_sql(\"BI_Paletizacao\", conn, if_exists='append', index=False)\n",
    "\n",
    "        print('✅ Dados dos arquivos .txt inseridos na tabela \"BI_Paletizacao\".')\n",
    "        conn.close()\n",
    "    except Exception as e:\n",
    "        print(f\"❌ Erro ao salvar no banco de dados: {e}\")\n",
    "else:\n",
    "    print(\"⚠️ Nenhum dado foi salvo no banco, pois o DataFrame está vazio.\")\n"
   ]
  },
  {
   "cell_type": "markdown",
   "metadata": {},
   "source": [
    "## BI Dedicado"
   ]
  },
  {
   "cell_type": "code",
   "execution_count": null,
   "metadata": {},
   "outputs": [
    {
     "name": "stdout",
     "output_type": "stream",
     "text": [
      "✅ Dados dos arquivos .txt inseridos na tabela \"BI_Dedicado\".\n"
     ]
    }
   ],
   "source": [
    "import pandas as pd\n",
    "import sqlite3\n",
    "import os\n",
    "\n",
    "caminho_pasta = r\"G:\"\n",
    "caminho_banco = r\"G:\"\n",
    "\n",
    "def carregar_txts_pasta(caminho_pasta, separador='|', encoding='utf-8'):\n",
    "    arquivos_txt = [f for f in os.listdir(caminho_pasta) if f.endswith('.txt')]\n",
    "    lista_dfs = []\n",
    "    for arquivo in arquivos_txt:\n",
    "        caminho_arquivo = os.path.join(caminho_pasta, arquivo)\n",
    "        try:\n",
    "            df = pd.read_csv(caminho_arquivo, sep=separador, encoding=encoding)\n",
    "            lista_dfs.append(df)\n",
    "        except Exception as e:\n",
    "            print(f\"Erro ao ler {arquivo}: {e}\")\n",
    "    if lista_dfs:\n",
    "        return pd.concat(lista_dfs, ignore_index=True)\n",
    "    else:\n",
    "        print(\"Nenhum arquivo válido encontrado na pasta.\")\n",
    "        return pd.DataFrame()\n",
    "\n",
    "df_txt_consolidado = carregar_txts_pasta(caminho_pasta)\n",
    "\n",
    "if not df_txt_consolidado.empty:\n",
    "    try:\n",
    "        conn = sqlite3.connect(caminho_banco)\n",
    "        df_txt_consolidado.to_sql(\"BI_Dedicado\", conn, if_exists='append', index=False)\n",
    "\n",
    "        print('✅ Dados dos arquivos .txt inseridos na tabela \"BI_Dedicado\".')\n",
    "        conn.close()\n",
    "    except Exception as e:\n",
    "        print(f\"❌ Erro ao salvar no banco de dados: {e}\")\n",
    "else:\n",
    "    print(\"⚠️ Nenhum dado foi salvo no banco, pois o DataFrame está vazio.\")\n"
   ]
  },
  {
   "cell_type": "markdown",
   "metadata": {},
   "source": [
    "## BI Estadia"
   ]
  },
  {
   "cell_type": "code",
   "execution_count": null,
   "metadata": {},
   "outputs": [
    {
     "name": "stdout",
     "output_type": "stream",
     "text": [
      "✅ Dados dos arquivos .txt inseridos na tabela \"BI_Estadia\".\n"
     ]
    }
   ],
   "source": [
    "import pandas as pd\n",
    "import sqlite3\n",
    "import os\n",
    "\n",
    "caminho_pasta = r\"G:\"\n",
    "caminho_banco = r\"G:\"\n",
    "\n",
    "def carregar_txts_pasta(caminho_pasta, separador='|', encoding='utf-8'):\n",
    "    arquivos_txt = [f for f in os.listdir(caminho_pasta) if f.endswith('.txt')]\n",
    "    lista_dfs = []\n",
    "    for arquivo in arquivos_txt:\n",
    "        caminho_arquivo = os.path.join(caminho_pasta, arquivo)\n",
    "        try:\n",
    "            df = pd.read_csv(caminho_arquivo, sep=separador, encoding=encoding)\n",
    "            lista_dfs.append(df)\n",
    "        except Exception as e:\n",
    "            print(f\"Erro ao ler {arquivo}: {e}\")\n",
    "    if lista_dfs:\n",
    "        return pd.concat(lista_dfs, ignore_index=True)\n",
    "    else:\n",
    "        print(\"Nenhum arquivo válido encontrado na pasta.\")\n",
    "        return pd.DataFrame()\n",
    "\n",
    "df_txt_consolidado = carregar_txts_pasta(caminho_pasta)\n",
    "\n",
    "if not df_txt_consolidado.empty:\n",
    "    try:\n",
    "        conn = sqlite3.connect(caminho_banco)\n",
    "        df_txt_consolidado.to_sql(\"BI_Estadia\", conn, if_exists='append', index=False)\n",
    "\n",
    "        print('✅ Dados dos arquivos .txt inseridos na tabela \"BI_Estadia\".')\n",
    "        conn.close()\n",
    "    except Exception as e:\n",
    "        print(f\"❌ Erro ao salvar no banco de dados: {e}\")\n",
    "else:\n",
    "    print(\"⚠️ Nenhum dado foi salvo no banco, pois o DataFrame está vazio.\")\n"
   ]
  },
  {
   "cell_type": "markdown",
   "metadata": {},
   "source": [
    "# BI Descarga"
   ]
  },
  {
   "cell_type": "code",
   "execution_count": null,
   "metadata": {},
   "outputs": [],
   "source": [
    "import pandas as pd\n",
    "import sqlite3\n",
    "import os\n",
    "\n",
    "# Caminhos\n",
    "caminho_pasta = r\"G:\"\n",
    "caminho_banco = r\"G:\"\n",
    "\n",
    "# Lista de colunas na ordem correta\n",
    "colunas_ordenadas = [\n",
    "    \"Data de Requisição\", \"Nota fiscal\", \"Série\", \"Cliente Destinatário\", \"Cidade_1\", \"U.F\",\n",
    "    \"Tipo de serviço:\", \"Cobrança por:\", \"Quantidade:\", \"Valor unitário:\", \"N° Requisição\", \"REF\",\n",
    "    \"Título E-mail\", \"Código\", \"Destinatário\", \"Cidade\", \"UF\", \"Transportadora\", \"Tipo de expedição\",\n",
    "    \"Data de entrega\", \"Local de Expedição\", \"Nfe\", \"PESO (KG)\", \"Chave\", \"Agrupador\", \"Valor Solicitado\",\n",
    "    \"Valor Cobrado por descarga\", \"Valor Descarga Validado\", \"Valor Validado por NF\", \"Procede?\", \"Franquia?\"\n",
    "]\n",
    "\n",
    "# Função para carregar os arquivos .txt\n",
    "def carregar_txts_pasta(caminho_pasta, separador='|', encoding='utf-8'):\n",
    "    arquivos_txt = [f for f in os.listdir(caminho_pasta) if f.endswith('.txt')]\n",
    "    lista_dfs = []\n",
    "    for arquivo in arquivos_txt:\n",
    "        caminho_arquivo = os.path.join(caminho_pasta, arquivo)\n",
    "        try:\n",
    "            df = pd.read_csv(\n",
    "                caminho_arquivo,\n",
    "                sep=separador,\n",
    "                encoding=encoding,\n",
    "                dtype={\"Franquia?\": str}\n",
    "            )\n",
    "            lista_dfs.append(df)\n",
    "        except Exception as e:\n",
    "            print(f\"Erro ao ler {arquivo}: {e}\")\n",
    "    if lista_dfs:\n",
    "        df_consolidado = pd.concat(lista_dfs, ignore_index=True)\n",
    "        # Ordenar colunas\n",
    "        df_consolidado = df_consolidado[colunas_ordenadas]\n",
    "        return df_consolidado\n",
    "    else:\n",
    "        print(\"Nenhum arquivo válido encontrado na pasta.\")\n",
    "        return pd.DataFrame()\n",
    "\n",
    "# Carregar e processar\n",
    "df_txt_consolidado = carregar_txts_pasta(caminho_pasta)\n",
    "\n",
    "# Inserir no banco\n",
    "if not df_txt_consolidado.empty:\n",
    "    try:\n",
    "        conn = sqlite3.connect(caminho_banco)\n",
    "        df_txt_consolidado.to_sql(\"BI_Descarga\", conn, if_exists='append', index=False)\n",
    "        print('✅ Dados dos arquivos .txt inseridos na tabela \"BI_Descarga\".')\n",
    "        conn.close()\n",
    "    except Exception as e:\n",
    "        print(f\"❌ Erro ao salvar no banco de dados: {e}\")\n",
    "else:\n",
    "    print(\"⚠️ Nenhum dado foi salvo no banco, pois o DataFrame está vazio.\")\n"
   ]
  },
  {
   "cell_type": "markdown",
   "metadata": {},
   "source": [
    "# BI Armazenagem"
   ]
  },
  {
   "cell_type": "code",
   "execution_count": null,
   "metadata": {},
   "outputs": [
    {
     "name": "stdout",
     "output_type": "stream",
     "text": [
      "✅ Dados dos arquivos .txt inseridos na tabela \"BI_Armazenagem\".\n"
     ]
    }
   ],
   "source": [
    "import pandas as pd\n",
    "import sqlite3\n",
    "import os\n",
    "\n",
    "caminho_pasta = r\"G:\"\n",
    "caminho_banco = r\"G:\"\n",
    "\n",
    "def carregar_txts_pasta(caminho_pasta, separador='|', encoding='utf-8'):\n",
    "    arquivos_txt = [f for f in os.listdir(caminho_pasta) if f.endswith('.txt')]\n",
    "    lista_dfs = []\n",
    "    for arquivo in arquivos_txt:\n",
    "        caminho_arquivo = os.path.join(caminho_pasta, arquivo)\n",
    "        try:\n",
    "            df = pd.read_csv(caminho_arquivo, sep=separador, encoding=encoding)\n",
    "            lista_dfs.append(df)\n",
    "        except Exception as e:\n",
    "            print(f\"Erro ao ler {arquivo}: {e}\")\n",
    "    if lista_dfs:\n",
    "        return pd.concat(lista_dfs, ignore_index=True)\n",
    "    else:\n",
    "        print(\"Nenhum arquivo válido encontrado na pasta.\")\n",
    "        return pd.DataFrame()\n",
    "\n",
    "df_txt_consolidado = carregar_txts_pasta(caminho_pasta)\n",
    "\n",
    "if not df_txt_consolidado.empty:\n",
    "    try:\n",
    "        conn = sqlite3.connect(caminho_banco)\n",
    "        df_txt_consolidado.to_sql(\"BI_Armazenagem\", conn, if_exists='append', index=False)\n",
    "\n",
    "        print('✅ Dados dos arquivos .txt inseridos na tabela \"BI_Armazenagem\".')\n",
    "        conn.close()\n",
    "    except Exception as e:\n",
    "        print(f\"❌ Erro ao salvar no banco de dados: {e}\")\n",
    "else:\n",
    "    print(\"⚠️ Nenhum dado foi salvo no banco, pois o DataFrame está vazio.\")\n"
   ]
  },
  {
   "cell_type": "markdown",
   "metadata": {},
   "source": [
    "## Tabela Valor veiculo"
   ]
  },
  {
   "cell_type": "code",
   "execution_count": null,
   "metadata": {},
   "outputs": [
    {
     "name": "stdout",
     "output_type": "stream",
     "text": [
      "Tabela \"valor_dedicado\" salva no banco de dados.\n"
     ]
    }
   ],
   "source": [
    "import pandas as pd\n",
    "import sqlite3\n",
    "from email import message_from_file\n",
    "from io import StringIO\n",
    "import pyodbc  \n",
    "import os\n",
    "\n",
    "# Caminhos\n",
    "caminho_arquivo_excel = r\"G:\"\n",
    "\n",
    "# Lista todas as abas do arquivo\n",
    "abas_disponiveis = pd.ExcelFile(caminho_arquivo_excel).sheet_names\n",
    "\n",
    "df_info_veiculo = pd.read_excel(caminho_arquivo_excel, sheet_name='valor')\n",
    "\n",
    "\n",
    "def limpar_colunas(df):\n",
    "    return df.loc[:, ~df.columns.str.contains('^Unnamed')]\n",
    "\n",
    "conn = sqlite3.connect('dados_banco.db')\n",
    "cursor = conn.cursor()\n",
    "\n",
    "def salvar_tabela(df, nome_tabela):\n",
    "    df.to_sql(nome_tabela, conn, if_exists='replace', index=False)\n",
    "    print(f'Tabela \"{nome_tabela}\" salva no banco de dados.')\n",
    "\n",
    "salvar_tabela(df_info_veiculo, 'valor_dedicado')\n",
    "\n",
    "conn.close()"
   ]
  }
 ],
 "metadata": {
  "kernelspec": {
   "display_name": "Python 3",
   "language": "python",
   "name": "python3"
  },
  "language_info": {
   "codemirror_mode": {
    "name": "ipython",
    "version": 3
   },
   "file_extension": ".py",
   "mimetype": "text/x-python",
   "name": "python",
   "nbconvert_exporter": "python",
   "pygments_lexer": "ipython3",
   "version": "3.11.11"
  }
 },
 "nbformat": 4,
 "nbformat_minor": 2
}
