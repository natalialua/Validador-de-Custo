{
 "cells": [
  {
   "cell_type": "markdown",
   "metadata": {},
   "source": [
    "## TESTE"
   ]
  },
  {
   "cell_type": "code",
   "execution_count": null,
   "metadata": {},
   "outputs": [
    {
     "name": "stdout",
     "output_type": "stream",
     "text": [
      "Tabelas no banco de dados:\n",
      "zsd173\n",
      "Info_Gerais\n",
      "Transp\n",
      "Base_Clientes\n",
      "Base_Produtos\n",
      "Book\n",
      "valor_dedicado\n",
      "BI_Estadia\n",
      "BI_Dedicado\n",
      "TABELAS_FRACIONADO\n",
      "TABELAS_LOTACAO\n",
      "BI_Descarga\n",
      "BI_Armazenagem\n",
      "BI_Paletizacao\n",
      " BI_Paletizacao\n"
     ]
    }
   ],
   "source": [
    "import sqlite3\n",
    "import os\n",
    "\n",
    "# Caminho corrigido com raw string (r\"...\")\n",
    "db_path = r\"\"\n",
    "\n",
    "# Verifica se o caminho é válido\n",
    "if os.path.exists(db_path):\n",
    "    # Conectar ao banco SQLite\n",
    "    conn = sqlite3.connect(db_path)\n",
    "    cursor = conn.cursor()\n",
    "\n",
    "    # Executar a consulta para obter os nomes das tabelas\n",
    "    cursor.execute(\"SELECT name FROM sqlite_master WHERE type='table'\")\n",
    "    tabelas = cursor.fetchall()\n",
    "\n",
    "    # Exibir os nomes das tabelas\n",
    "    print(\"Tabelas no banco de dados:\")\n",
    "    for tabela in tabelas:\n",
    "        print(tabela[0])\n",
    "\n",
    "    # Fechar a conexão\n",
    "    cursor.close()\n",
    "    conn.close()\n",
    "else:\n",
    "    print(\"Arquivo não encontrado:\", db_path)\n"
   ]
  },
  {
   "cell_type": "code",
   "execution_count": null,
   "metadata": {},
   "outputs": [
    {
     "name": "stdout",
     "output_type": "stream",
     "text": [
      "Todos os dados da tabela Relatorio_Txt foram removidos.\n"
     ]
    }
   ],
   "source": [
    "import sqlite3\n",
    "\n",
    "# Conectar ao banco SQLite\n",
    "conn = sqlite3.connect(\"G:\")\n",
    "cursor = conn.cursor()\n",
    "\n",
    "# Executar a consulta para remover todos os dados da tabela Relatorio_Txt\n",
    "cursor.execute(\"DELETE FROM Relatorio_Txt\")\n",
    "conn.commit()  # Confirmar a transação\n",
    "\n",
    "# Fechar a conexão\n",
    "cursor.close()\n",
    "conn.close()\n",
    "\n",
    "print(\"Todos os dados da tabela Relatorio_Txt foram removidos.\")"
   ]
  },
  {
   "cell_type": "code",
   "execution_count": null,
   "metadata": {},
   "outputs": [
    {
     "name": "stdout",
     "output_type": "stream",
     "text": [
      "min    float64\n",
      "max    float64\n",
      "dtype: object\n"
     ]
    }
   ],
   "source": [
    "import sqlite3\n",
    "import pandas as pd\n",
    "\n",
    "# Conectar ao banco de dados\n",
    "conn = sqlite3.connect(r\"G:\")\n",
    "\n",
    "cursor = conn.cursor()\n",
    "\n",
    "# Consultar os dados da tabela 'valor_dedicado'\n",
    "cursor.execute(\"SELECT * FROM valor_dedicado\")\n",
    "\n",
    "# Carregar os dados no pandas DataFrame\n",
    "valor_dedicado_df = pd.DataFrame(cursor.fetchall(), columns=[\"Tipo veiculo\", \"min\", \"max\", \"valor\"])\n",
    "\n",
    "# Verificar os tipos de dados das colunas 'min' e 'max'\n",
    "print(valor_dedicado_df[[\"min\", \"max\"]].dtypes)\n",
    "\n",
    "# Fechar a conexão\n",
    "conn.close()\n"
   ]
  },
  {
   "cell_type": "code",
   "execution_count": null,
   "metadata": {},
   "outputs": [
    {
     "name": "stdout",
     "output_type": "stream",
     "text": [
      "Tabela excluída com sucesso.\n"
     ]
    }
   ],
   "source": [
    "import sqlite3\n",
    "\n",
    "# Caminho do banco corrigido\n",
    "db_path = r\"G:\"\n",
    "\n",
    "# Conectar ao banco de dados\n",
    "conn = sqlite3.connect(db_path)\n",
    "cursor = conn.cursor()\n",
    "\n",
    "# Excluir a tabela\n",
    "cursor.execute(\"DROP TABLE IF EXISTS BI_Dedicado\")\n",
    "conn.commit()\n",
    "\n",
    "cursor.close()\n",
    "conn.close()\n",
    "\n",
    "print(\"Tabela excluída com sucesso.\")\n",
    "\n"
   ]
  },
  {
   "cell_type": "code",
   "execution_count": null,
   "metadata": {},
   "outputs": [
    {
     "name": "stdout",
     "output_type": "stream",
     "text": [
      "Tabela excluída com sucesso.\n"
     ]
    }
   ],
   "source": [
    "import sqlite3\n",
    "\n",
    "# Caminho do banco corrigido\n",
    "db_path = r\"G\"\n",
    "\n",
    "# Conectar ao banco de dados\n",
    "conn = sqlite3.connect(db_path)\n",
    "cursor = conn.cursor()\n",
    "\n",
    "# Excluir a tabela\n",
    "cursor.execute(\"DROP TABLE IF EXISTS BI_Descarga_Excel\")\n",
    "cursor.execute(\"DROP TABLE IF EXISTS BI_Descarga_TXT\")\n",
    "conn.commit()\n",
    "\n",
    "cursor.close()\n",
    "conn.close()\n",
    "\n",
    "print(\"Tabela excluída com sucesso.\")"
   ]
  },
  {
   "cell_type": "markdown",
   "metadata": {},
   "source": [
    "# Apagar e Criar Tabelas"
   ]
  },
  {
   "cell_type": "code",
   "execution_count": null,
   "metadata": {},
   "outputs": [],
   "source": [
    "#Apagar\n",
    "import sqlite3\n",
    "\n",
    "conn = sqlite3.connect(r\"G:\")\n",
    "cursor = conn.cursor()\n",
    "# cursor.execute(\"DELETE FROM BI_Estadia\")\n",
    "# cursor.execute(\"DELETE FROM BI_Dedicado\")\n",
    "# cursor.execute(\"DELETE FROM BI_Descarga\")\n",
    "# cursor.execute(\"DELETE FROM BI_Armazenagem\")\n",
    "cursor.execute(\"DELETE FROM BI_Paletizacao\")\n",
    "\n",
    "conn.commit() \n",
    "\n",
    "# Fechar a conexão\n",
    "cursor.close()\n",
    "conn.close() \n"
   ]
  },
  {
   "cell_type": "code",
   "execution_count": null,
   "metadata": {},
   "outputs": [],
   "source": [
    "import sqlite3\n",
    "\n",
    "conn = sqlite3.connect(r\"G:\")\n",
    "cursor = conn.cursor()\n",
    "cursor.execute(\"DROP TABLE IF EXISTS ' BI_Paletizacao'\")\n",
    "\n",
    "conn.commit() \n",
    "\n",
    "# Fechar a conexão\n",
    "cursor.close()\n",
    "conn.close() \n"
   ]
  },
  {
   "cell_type": "code",
   "execution_count": null,
   "metadata": {},
   "outputs": [
    {
     "name": "stdout",
     "output_type": "stream",
     "text": [
      "✅ Dados do Excel inseridos com sucesso na tabela 'BI_Paletizacao'.\n"
     ]
    }
   ],
   "source": [
    "import sqlite3\n",
    "import pandas as pd\n",
    "import os\n",
    "\n",
    "caminho_banco = r\"G\"\n",
    "caminho_excel = r\"G:\"\n",
    "\n",
    "if not os.path.exists(caminho_excel):\n",
    "    print(f\"Erro: O arquivo '{caminho_excel}' não foi encontrado.\")\n",
    "else:\n",
    "    try:\n",
    "        conn = sqlite3.connect(caminho_banco)\n",
    "        cursor = conn.cursor()\n",
    "\n",
    "        df = pd.read_excel(caminho_excel)\n",
    "\n",
    "        if df.empty:\n",
    "            print(\"O arquivo Excel está vazio. Nenhum dado foi inserido.\")\n",
    "        else:\n",
    "            # Inserir os dados na tabela (sem apagar o que já existe)\n",
    "            df.to_sql(\"BI_Paletizacao\", conn, if_exists=\"append\", index=False)\n",
    "            print(\"✅ Dados do Excel inseridos com sucesso na tabela 'BI_Paletizacao'.\")\n",
    "\n",
    "        conn.close()\n",
    "\n",
    "    except Exception as e:\n",
    "        print(f\"❌ Erro ao processar os dados: {e}\")\n"
   ]
  },
  {
   "cell_type": "code",
   "execution_count": null,
   "metadata": {},
   "outputs": [
    {
     "name": "stdout",
     "output_type": "stream",
     "text": [
      "✅ Dados do arquivo Excel foram inseridos na tabela BI_Dedicado com sucesso!\n"
     ]
    }
   ],
   "source": [
    "import sqlite3\n",
    "import pandas as pd\n",
    "import os\n",
    "\n",
    "# Caminhos dos arquivos\n",
    "caminho_banco = r\"G\"\n",
    "caminho_excel = r\"G\"\n",
    "\n",
    "# Verifica se o arquivo Excel existe\n",
    "if not os.path.exists(caminho_excel):\n",
    "    print(f\"Erro: O arquivo '{caminho_excel}' não foi encontrado.\")\n",
    "else:\n",
    "    try:\n",
    "        # Conectar ao banco SQLite\n",
    "        conn = sqlite3.connect(caminho_banco)\n",
    "        cursor = conn.cursor()\n",
    "\n",
    "        # Lendo os dados do Excel\n",
    "        df = pd.read_excel(caminho_excel, engine=\"pyxlsb\")\n",
    "\n",
    "        if df.empty:\n",
    "            print(\"O arquivo Excel está vazio. Nenhum dado foi inserido.\")\n",
    "        else:\n",
    "            # Remover colunas completamente vazias\n",
    "            df = df.dropna(axis=1, how=\"all\")\n",
    "            \n",
    "            # Garantir que a coluna \"Data Requisição\" seja convertida corretamente\n",
    "            if \"Data Requisição\" in df.columns:\n",
    "                df[\"Data Requisição\"] = pd.to_numeric(df[\"Data Requisição\"], errors=\"coerce\")\n",
    "                df[\"Data Requisição\"] = pd.to_datetime(\"1899-12-30\") + pd.to_timedelta(df[\"Data Requisição\"], unit=\"D\")\n",
    "                df[\"Data Requisição\"] = df[\"Data Requisição\"].dt.strftime(\"%d/%m/%Y\")  # Formato DD/MM/YYYY\n",
    "            \n",
    "            # Criar a tabela se não existir\n",
    "            colunas = \", \".join([f'\"{col}\" TEXT' for col in df.columns])\n",
    "            cursor.execute(f\"CREATE TABLE IF NOT EXISTS BI_Dedicado ({colunas})\")\n",
    "\n",
    "            # Apagar dados antigos antes de inserir novos\n",
    "            cursor.execute(\"DELETE FROM BI_Dedicado\")\n",
    "            conn.commit()\n",
    "\n",
    "            # Inserir os dados na tabela\n",
    "            df.to_sql(\"BI_Dedicado\", conn, if_exists=\"append\", index=False)\n",
    "\n",
    "            print(\"✅ Dados do arquivo Excel foram inseridos na tabela BI_Dedicado com sucesso!\")\n",
    "\n",
    "        # Fechar conexão\n",
    "        conn.close()\n",
    "    \n",
    "    except Exception as e:\n",
    "        print(f\"❌ Erro ao processar os dados: {e}\")"
   ]
  },
  {
   "cell_type": "code",
   "execution_count": null,
   "metadata": {},
   "outputs": [
    {
     "name": "stdout",
     "output_type": "stream",
     "text": [
      "✅ Dados do arquivo Excel foram inseridos na tabela BI_Estadia com sucesso!\n"
     ]
    }
   ],
   "source": [
    "import sqlite3\n",
    "import pandas as pd\n",
    "import os\n",
    "\n",
    "# Caminhos dos arquivos\n",
    "caminho_banco = r\"G\"\n",
    "caminho_excel = r\"G\"\n",
    "\n",
    "# Verifica se o arquivo Excel existe\n",
    "if not os.path.exists(caminho_excel):\n",
    "    print(f\"Erro: O arquivo '{caminho_excel}' não foi encontrado.\")\n",
    "else:\n",
    "    try:\n",
    "        # Conectar ao banco SQLite\n",
    "        conn = sqlite3.connect(caminho_banco)\n",
    "        cursor = conn.cursor()\n",
    "\n",
    "        # Lendo os dados do Excel\n",
    "        df = pd.read_excel(caminho_excel, engine=\"pyxlsb\")\n",
    "\n",
    "        if df.empty:\n",
    "            print(\"O arquivo Excel está vazio. Nenhum dado foi inserido.\")\n",
    "        else:\n",
    "            # Remover colunas completamente vazias\n",
    "            df = df.dropna(axis=1, how=\"all\")\n",
    "            \n",
    "            # Garantir que a coluna \"Data Requisição\" seja convertida corretamente\n",
    "            if \"Data Requisição\" in df.columns:\n",
    "                df[\"Data Requisição\"] = pd.to_numeric(df[\"Data Requisição\"], errors=\"coerce\")\n",
    "                df[\"Data Requisição\"] = pd.to_datetime(\"1899-12-30\") + pd.to_timedelta(df[\"Data Requisição\"], unit=\"D\")\n",
    "                df[\"Data Requisição\"] = df[\"Data Requisição\"].dt.strftime(\"%d/%m/%Y\")  # Formato DD/MM/YYYY\n",
    "            \n",
    "            # Criar a tabela se não existir\n",
    "            colunas = \", \".join([f'\"{col}\" TEXT' for col in df.columns])\n",
    "            cursor.execute(f\"CREATE TABLE IF NOT EXISTS BI_Estadia ({colunas})\")\n",
    "\n",
    "            # Apagar dados antigos antes de inserir novos\n",
    "            cursor.execute(\"DELETE FROM BI_Estadia\")\n",
    "            conn.commit()\n",
    "\n",
    "                    # Converter todos os dados para string para evitar problemas de tipo\n",
    "            df = df.astype(str)\n",
    "\n",
    "            # Inserir os dados na tabela\n",
    "            df.to_sql(\"BI_Estadia\", conn, if_exists=\"append\", index=False, dtype={col: 'TEXT' for col in df.columns})\n",
    "\n",
    "            print(\"✅ Dados do arquivo Excel foram inseridos na tabela BI_Estadia com sucesso!\")\n",
    "\n",
    "\n",
    "        # Fechar conexão\n",
    "        conn.close()\n",
    "    \n",
    "    except Exception as e:\n",
    "        print(f\"❌ Erro ao processar os dados: {e}\")\n",
    "\n",
    "\n"
   ]
  },
  {
   "cell_type": "code",
   "execution_count": null,
   "metadata": {},
   "outputs": [
    {
     "name": "stdout",
     "output_type": "stream",
     "text": [
      "✅ Dados do arquivo Excel foram inseridos na tabela BI_Descarga com sucesso!\n"
     ]
    }
   ],
   "source": [
    "import sqlite3\n",
    "import pandas as pd\n",
    "import os\n",
    "\n",
    "caminho_banco = r\"G\"\n",
    "caminho_excel = r\"G\"\n",
    "\n",
    "if not os.path.exists(caminho_excel):\n",
    "    print(f\"Erro: O arquivo '{caminho_excel}' não foi encontrado.\")\n",
    "else:\n",
    "    try:\n",
    "        conn = sqlite3.connect(caminho_banco)\n",
    "\n",
    "        df = pd.read_excel(caminho_excel)\n",
    "\n",
    "        if df.empty:\n",
    "            print(\"O arquivo Excel está vazio. Nenhum dado foi inserido.\")\n",
    "        else:\n",
    "            df = df.dropna(axis=1, how=\"all\")\n",
    "            df = df.loc[:, ~df.columns.str.contains(\"^Unnamed\")]  # 🔥 Remove colunas vazias\n",
    "\n",
    "        if \"Data de Requisição\" in df.columns:\n",
    "            try:\n",
    "                df[\"Data de Requisição\"] = pd.to_datetime(df[\"Data de Requisição\"], errors=\"coerce\", dayfirst=True)\n",
    "            except:\n",
    "                df[\"Data de Requisição\"] = pd.to_numeric(df[\"Data de Requisição\"], errors=\"coerce\")\n",
    "                df.loc[(df[\"Data de Requisição\"] > 60000) | (df[\"Data de Requisição\"] < 0), \"Data de Requisição\"] = None\n",
    "                df[\"Data de Requisição\"] = pd.to_datetime(\"1899-12-30\") + pd.to_timedelta(df[\"Data de Requisição\"], unit=\"D\")\n",
    "\n",
    "            df[\"Data de Requisição\"] = df[\"Data de Requisição\"].dt.strftime(\"%d/%m/%Y\")\n",
    "\n",
    "        df = df.astype(str)\n",
    "\n",
    "        df.to_sql(\"BI_Descarga\", conn, if_exists=\"append\", index=False, dtype={col: 'TEXT' for col in df.columns})\n",
    "\n",
    "        print(\"✅ Dados do arquivo Excel foram inseridos na tabela BI_Descarga com sucesso!\")\n",
    "\n",
    "        conn.close()\n",
    "\n",
    "    except Exception as e:\n",
    "        print(f\"❌ Erro ao processar os dados do Excel: {e}\")\n"
   ]
  },
  {
   "cell_type": "code",
   "execution_count": null,
   "metadata": {},
   "outputs": [
    {
     "name": "stdout",
     "output_type": "stream",
     "text": [
      "✅ Dados do arquivo Excel foram inseridos na tabela BI_Armazenagem com sucesso!\n"
     ]
    }
   ],
   "source": [
    "import sqlite3\n",
    "import pandas as pd\n",
    "import os\n",
    "\n",
    "caminho_banco = r\"G\"\n",
    "caminho_excel = r\"G\"\n",
    "if not os.path.exists(caminho_excel):\n",
    "    print(f\"Erro: O arquivo '{caminho_excel}' não foi encontrado.\")\n",
    "else:\n",
    "    try:\n",
    "        conn = sqlite3.connect(caminho_banco)\n",
    "        cursor = conn.cursor()\n",
    "\n",
    "        df = pd.read_excel(caminho_excel)\n",
    "\n",
    "        if df.empty:\n",
    "            print(\"O arquivo Excel está vazio. Nenhum dado foi inserido.\")\n",
    "        else:\n",
    "            df = df.dropna(axis=1, how=\"all\")\n",
    "\n",
    "        if \"Data Requisição\" in df.columns:\n",
    "            # Tenta converter diretamente para datetime (se já estiver em string)\n",
    "            try:\n",
    "                df[\"Data Requisição\"] = pd.to_datetime(df[\"Data Requisição\"], errors=\"coerce\", dayfirst=True)\n",
    "            except:\n",
    "                # Se falhar, tenta tratar como número serial do Excel\n",
    "                df[\"Data Requisição\"] = pd.to_numeric(df[\"Data Requisição\"], errors=\"coerce\")\n",
    "                df.loc[(df[\"Data Requisição\"] > 60000) | (df[\"Data Requisição\"] < 0), \"Data Requisição\"] = None\n",
    "                df[\"Data Requisição\"] = pd.to_datetime(\"1899-12-30\") + pd.to_timedelta(df[\"Data Requisição\"], unit=\"D\")\n",
    "\n",
    "            # Formata para string padrão\n",
    "            df[\"Data Requisição\"] = df[\"Data Requisição\"].dt.strftime(\"%d/%m/%Y\")\n",
    "\n",
    "\n",
    "            colunas = \", \".join([f'\"{col}\" TEXT' for col in df.columns])\n",
    "            cursor.execute(f\"CREATE TABLE IF NOT EXISTS BI_Armazenagem ({colunas})\")\n",
    "\n",
    "            cursor.execute(\"DELETE FROM BI_Armazenagem\")\n",
    "            conn.commit()\n",
    "\n",
    "            df = df.astype(str)\n",
    "            df.to_sql(\"BI_Armazenagem\", conn, if_exists=\"append\", index=False, dtype={col: 'TEXT' for col in df.columns})\n",
    "\n",
    "            print(\"✅ Dados do arquivo Excel foram inseridos na tabela BI_Armazenagem com sucesso!\")\n",
    "\n",
    "        conn.close()\n",
    "\n",
    "    except Exception as e:\n",
    "        print(f\"❌ Erro ao processar os dados: {e}\")\n"
   ]
  },
  {
   "cell_type": "code",
   "execution_count": null,
   "metadata": {},
   "outputs": [
    {
     "name": "stdout",
     "output_type": "stream",
     "text": [
      "✅ Tabela renomeada com sucesso!\n"
     ]
    }
   ],
   "source": [
    "import sqlite3\n",
    "\n",
    "caminho_banco = r\"G\"\n",
    "\n",
    "try:\n",
    "    conn = sqlite3.connect(caminho_banco)\n",
    "    cursor = conn.cursor()\n",
    "\n",
    "    # Comando para renomear a tabela\n",
    "    cursor.execute(\"ALTER TABLE Relatorio_Txt RENAME TO BI_Paletizacao\")\n",
    "    conn.commit()\n",
    "    print(\"✅ Tabela renomeada com sucesso!\")\n",
    "\n",
    "    conn.close()\n",
    "\n",
    "except Exception as e:\n",
    "    print(f\"❌ Erro ao renomear a tabela: {e}\")\n"
   ]
  },
  {
   "cell_type": "code",
   "execution_count": null,
   "metadata": {},
   "outputs": [],
   "source": [
    "import pandas as pd\n",
    "\n",
    "# Caminho do arquivo Excel\n",
    "caminho_excel = r\"C:\"\n",
    "\n",
    "# Caminho da pasta de saída dos arquivos TXT\n",
    "caminho_saida = r\"G\"\n",
    "\n",
    "# Nomes das abas\n",
    "abas = [\"724\", \"725\"]\n",
    "\n",
    "for aba in abas:\n",
    "    # Leitura da aba específica\n",
    "    df = pd.read_excel(caminho_excel, sheet_name=aba)\n",
    "    \n",
    "    # Defina aqui as colunas desejadas ou use todas as colunas\n",
    "    colunas_desejadas = df.columns  # ou por exemplo: ['coluna1', 'coluna2', ...]\n",
    "    \n",
    "    # Caminho completo para salvar o txt\n",
    "    caminho_txt_proc = fr\"{caminho_saida}\\{aba}.txt\"\n",
    "    \n",
    "    # Exportação para TXT\n",
    "    df[colunas_desejadas].to_csv(caminho_txt_proc, sep=\"|\", index=False, encoding=\"utf-8\")\n",
    "    \n",
    "    print(f\"Arquivo {aba}.txt gerado com sucesso em {caminho_saida}\")\n"
   ]
  }
 ],
 "metadata": {
  "kernelspec": {
   "display_name": "meu_ambiente",
   "language": "python",
   "name": "python3"
  },
  "language_info": {
   "codemirror_mode": {
    "name": "ipython",
    "version": 3
   },
   "file_extension": ".py",
   "mimetype": "text/x-python",
   "name": "python",
   "nbconvert_exporter": "python",
   "pygments_lexer": "ipython3",
   "version": "3.11.11"
  }
 },
 "nbformat": 4,
 "nbformat_minor": 2
}
